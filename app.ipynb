{
 "cells": [
  {
   "cell_type": "code",
   "execution_count": 1,
   "id": "10728228-02d2-43dc-8b6d-076798f02e38",
   "metadata": {},
   "outputs": [],
   "source": [
    "import streamlit as st\n",
    "import pickle\n",
    "import pandas as pd\n"
   ]
  },
  {
   "cell_type": "code",
   "execution_count": 2,
   "id": "a110099d-68c0-46c1-8373-0228935174f8",
   "metadata": {},
   "outputs": [],
   "source": [
    "binary_model_pipeline = pickle.load(open('final_model.pkl', 'rb'))        # Binary classification model (attack or not)\n",
    "attack_model_pipeline = pickle.load(open('attack_model.pkl', 'rb')) "
   ]
  },
  {
   "cell_type": "code",
   "execution_count": 3,
   "id": "21bc5254-face-49c4-a050-3089b6e046b1",
   "metadata": {},
   "outputs": [
    {
     "name": "stderr",
     "output_type": "stream",
     "text": [
      "2024-09-20 11:56:28.859 \n",
      "  \u001b[33m\u001b[1mWarning:\u001b[0m to view this Streamlit app on a browser, run it with the following\n",
      "  command:\n",
      "\n",
      "    streamlit run C:\\Users\\hp\\AppData\\Local\\Programs\\Python\\Python312\\Lib\\site-packages\\ipykernel_launcher.py [ARGUMENTS]\n"
     ]
    },
    {
     "data": {
      "text/plain": [
       "DeltaGenerator()"
      ]
     },
     "execution_count": 3,
     "metadata": {},
     "output_type": "execute_result"
    }
   ],
   "source": [
    "st.title(\"Web Traffic Log Classification\")"
   ]
  },
  {
   "cell_type": "code",
   "execution_count": 4,
   "id": "73c0954b-7a2b-4a52-81a9-05626234d4fc",
   "metadata": {},
   "outputs": [
    {
     "data": {
      "text/plain": [
       "DeltaGenerator()"
      ]
     },
     "execution_count": 4,
     "metadata": {},
     "output_type": "execute_result"
    }
   ],
   "source": [
    "st.subheader(\"Enter the details for prediction:\")\n"
   ]
  },
  {
   "cell_type": "code",
   "execution_count": 5,
   "id": "1f8ba49e-2466-4448-92c4-d038a88facfa",
   "metadata": {},
   "outputs": [
    {
     "name": "stderr",
     "output_type": "stream",
     "text": [
      "2024-09-20 11:56:43.071 Session state does not function when running a script without `streamlit run`\n"
     ]
    }
   ],
   "source": [
    "http_method = st.selectbox('HTTP Method', ['GET', 'POST', 'PUT', 'DELETE', 'PATCH', 'HEAD'])\n"
   ]
  },
  {
   "cell_type": "code",
   "execution_count": 6,
   "id": "306539c4-cf94-4cf5-b7c9-9af9b5475edf",
   "metadata": {},
   "outputs": [],
   "source": [
    "status_code = st.number_input('Status Code', min_value=100, max_value=599, step=1)\n"
   ]
  },
  {
   "cell_type": "code",
   "execution_count": 7,
   "id": "754f48c0-811f-41ad-bcc9-c33ab0d46d96",
   "metadata": {},
   "outputs": [],
   "source": [
    "user_agent = st.text_input('User Agent String', 'Mozilla/5.0')\n"
   ]
  },
  {
   "cell_type": "code",
   "execution_count": 8,
   "id": "87a77f34-e91d-4d16-8b5a-9553e9e3e59e",
   "metadata": {},
   "outputs": [],
   "source": [
    "content_type = st.selectbox('Content Type', [\n",
    "    'text/html; charset=utf-8',\n",
    "    'application/json; charset=utf-8',\n",
    "    'application/xml; charset=utf-8',\n",
    "    'text/plain; charset=utf-8',\n",
    "    'application/javascript; charset=utf-8',\n",
    "    'text/css; charset=utf-8',\n",
    "    'image/png',\n",
    "    'image/jpeg'\n",
    "])"
   ]
  },
  {
   "cell_type": "code",
   "execution_count": 9,
   "id": "bc7f3a3b-481d-4736-bbda-1b4521d8553f",
   "metadata": {},
   "outputs": [],
   "source": [
    "response_time = st.number_input('Response Time (in seconds)', min_value=0.0, step=0.01)\n"
   ]
  },
  {
   "cell_type": "code",
   "execution_count": 10,
   "id": "1728f382-ff84-4f47-8061-0daa33053510",
   "metadata": {},
   "outputs": [],
   "source": [
    "content_length = st.number_input('Content Length', min_value=0, step=1)\n"
   ]
  },
  {
   "cell_type": "code",
   "execution_count": 11,
   "id": "bf79568e-87df-4c46-8427-7cb630787cce",
   "metadata": {},
   "outputs": [],
   "source": [
    "referrer = st.text_input('Referrer', 'https://example.com')\n"
   ]
  },
  {
   "cell_type": "code",
   "execution_count": 12,
   "id": "a6251738-7a05-489a-90d7-4894028471d4",
   "metadata": {},
   "outputs": [],
   "source": [
    "input_data = {\n",
    "    'http_method': [http_method],\n",
    "    'status_code': [status_code],\n",
    "    'user_agent': [user_agent],\n",
    "    'content_type': [content_type],\n",
    "    'response_time': [response_time],\n",
    "    'content_length': [content_length],\n",
    "    'referrer': [referrer]\n",
    "}"
   ]
  },
  {
   "cell_type": "code",
   "execution_count": 13,
   "id": "f5b77206-51a8-4869-b3d4-a5f754f64dd4",
   "metadata": {},
   "outputs": [],
   "source": [
    "input_df = pd.DataFrame(input_data)\n"
   ]
  },
  {
   "cell_type": "code",
   "execution_count": 20,
   "id": "02b7742b-9721-4713-87b4-e1aaadc0f8e5",
   "metadata": {},
   "outputs": [],
   "source": [
    "if st.button('Predict'):\n",
    "    prediction = binary_model_pipeline.predict(input_df)\n",
    "    if prediction[0] == 1:\n",
    "            st.write(\"The predicted label is: **Attack Detected**\")\n",
    "            attack_type_prediction = attack_model_pipeline.predict(input_df)\n",
    "            st.write(f\"Type of attack based on OWASP category: **{attack_type_prediction[0]}**\")\n",
    "    else:\n",
    "            st.write(\"The predicted label is: **No Attack Detected**\")"
   ]
  },
  {
   "cell_type": "code",
   "execution_count": null,
   "id": "029b623a-c4dc-411a-a13b-52a3a9b177b1",
   "metadata": {},
   "outputs": [],
   "source": []
  },
  {
   "cell_type": "code",
   "execution_count": null,
   "id": "735df513-bf44-43e6-b594-26bc7499b0e9",
   "metadata": {},
   "outputs": [],
   "source": []
  }
 ],
 "metadata": {
  "kernelspec": {
   "display_name": "Python 3 (ipykernel)",
   "language": "python",
   "name": "python3"
  },
  "language_info": {
   "codemirror_mode": {
    "name": "ipython",
    "version": 3
   },
   "file_extension": ".py",
   "mimetype": "text/x-python",
   "name": "python",
   "nbconvert_exporter": "python",
   "pygments_lexer": "ipython3",
   "version": "3.12.4"
  }
 },
 "nbformat": 4,
 "nbformat_minor": 5
}
